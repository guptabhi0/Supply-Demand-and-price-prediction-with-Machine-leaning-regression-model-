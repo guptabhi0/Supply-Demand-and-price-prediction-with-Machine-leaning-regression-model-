{
 "cells": [
  {
   "cell_type": "code",
   "execution_count": 1,
   "metadata": {},
   "outputs": [],
   "source": [
    "import pandas as pd\n",
    "import numpy as np\n",
    "import matplotlib.pyplot as plt"
   ]
  },
  {
   "cell_type": "markdown",
   "metadata": {},
   "source": [
    "## Preprocessing"
   ]
  },
  {
   "cell_type": "code",
   "execution_count": 2,
   "metadata": {},
   "outputs": [],
   "source": [
    "df=pd.read_csv('PORT_Demand_Dataset.csv')"
   ]
  },
  {
   "cell_type": "code",
   "execution_count": 3,
   "metadata": {},
   "outputs": [
    {
     "data": {
      "text/html": [
       "<div>\n",
       "<style scoped>\n",
       "    .dataframe tbody tr th:only-of-type {\n",
       "        vertical-align: middle;\n",
       "    }\n",
       "\n",
       "    .dataframe tbody tr th {\n",
       "        vertical-align: top;\n",
       "    }\n",
       "\n",
       "    .dataframe thead th {\n",
       "        text-align: right;\n",
       "    }\n",
       "</style>\n",
       "<table border=\"1\" class=\"dataframe\">\n",
       "  <thead>\n",
       "    <tr style=\"text-align: right;\">\n",
       "      <th></th>\n",
       "      <th>Port Botany Full</th>\n",
       "      <th>Port Botany Empty</th>\n",
       "      <th>Flinders Port Full</th>\n",
       "      <th>Flinders Port Empty</th>\n",
       "      <th>Port of Melbourne Full</th>\n",
       "      <th>Port of Melbourne Empty</th>\n",
       "      <th>Port of Brisbane Full</th>\n",
       "      <th>Port of Brisbane Empty</th>\n",
       "      <th>Fremental Port Full</th>\n",
       "      <th>Fremental Port Empty</th>\n",
       "    </tr>\n",
       "  </thead>\n",
       "  <tbody>\n",
       "    <tr>\n",
       "      <th>0</th>\n",
       "      <td>20364.46700</td>\n",
       "      <td>224.872695</td>\n",
       "      <td>2159.209858</td>\n",
       "      <td>679.699992</td>\n",
       "      <td>18957.30319</td>\n",
       "      <td>208.777130</td>\n",
       "      <td>7929.905128</td>\n",
       "      <td>758.401041</td>\n",
       "      <td>6123.804905</td>\n",
       "      <td>206.330665</td>\n",
       "    </tr>\n",
       "    <tr>\n",
       "      <th>1</th>\n",
       "      <td>20425.17879</td>\n",
       "      <td>225.543099</td>\n",
       "      <td>2165.647025</td>\n",
       "      <td>681.726354</td>\n",
       "      <td>19013.81985</td>\n",
       "      <td>209.399549</td>\n",
       "      <td>7953.546242</td>\n",
       "      <td>760.662033</td>\n",
       "      <td>6142.061563</td>\n",
       "      <td>206.945790</td>\n",
       "    </tr>\n",
       "    <tr>\n",
       "      <th>2</th>\n",
       "      <td>20425.17879</td>\n",
       "      <td>225.543099</td>\n",
       "      <td>2165.647025</td>\n",
       "      <td>681.726354</td>\n",
       "      <td>19013.81985</td>\n",
       "      <td>209.399549</td>\n",
       "      <td>7953.546242</td>\n",
       "      <td>760.662033</td>\n",
       "      <td>6142.061563</td>\n",
       "      <td>206.945790</td>\n",
       "    </tr>\n",
       "  </tbody>\n",
       "</table>\n",
       "</div>"
      ],
      "text/plain": [
       "   Port Botany Full  Port Botany Empty  Flinders Port Full  \\\n",
       "0       20364.46700         224.872695         2159.209858   \n",
       "1       20425.17879         225.543099         2165.647025   \n",
       "2       20425.17879         225.543099         2165.647025   \n",
       "\n",
       "   Flinders Port Empty  Port of Melbourne Full  Port of Melbourne Empty  \\\n",
       "0           679.699992             18957.30319               208.777130   \n",
       "1           681.726354             19013.81985               209.399549   \n",
       "2           681.726354             19013.81985               209.399549   \n",
       "\n",
       "   Port of Brisbane Full  Port of Brisbane Empty  Fremental Port Full  \\\n",
       "0            7929.905128              758.401041          6123.804905   \n",
       "1            7953.546242              760.662033          6142.061563   \n",
       "2            7953.546242              760.662033          6142.061563   \n",
       "\n",
       "   Fremental Port Empty  \n",
       "0            206.330665  \n",
       "1            206.945790  \n",
       "2            206.945790  "
      ]
     },
     "execution_count": 3,
     "metadata": {},
     "output_type": "execute_result"
    }
   ],
   "source": [
    "df.head(3)"
   ]
  },
  {
   "cell_type": "code",
   "execution_count": 4,
   "metadata": {},
   "outputs": [],
   "source": [
    "df[\"Port Botany Import\"]=df[\"Port Botany Full\"]+df[\"Port Botany Empty\"]\n",
    "df[\"Flinders Port Import\"]=df[\"Flinders Port Full\"]+df[\"Flinders Port Empty\"]\n",
    "df[\"Port of Melbourne Import\"]=df[\"Port of Melbourne Full\"]+df[\"Port of Melbourne Empty\"]\n",
    "df[\"Port of Brisbane Import\"]=df[\"Port of Brisbane Full\"]+df[\"Port of Brisbane Empty\"]\n",
    "df[\"Fremental Port Import\"]=df[\"Fremental Port Full\"]+df[\"Fremental Port Empty\"]"
   ]
  },
  {
   "cell_type": "code",
   "execution_count": 5,
   "metadata": {},
   "outputs": [],
   "source": [
    "df[\"Total import Demand\"]=df[\"Port Botany Import\"]+df[\"Flinders Port Import\"]+df[\"Port of Melbourne Import\"]+df[\"Port of Brisbane Import\"]+df[\"Fremental Port Import\"]"
   ]
  },
  {
   "cell_type": "code",
   "execution_count": 6,
   "metadata": {},
   "outputs": [
    {
     "data": {
      "text/html": [
       "<div>\n",
       "<style scoped>\n",
       "    .dataframe tbody tr th:only-of-type {\n",
       "        vertical-align: middle;\n",
       "    }\n",
       "\n",
       "    .dataframe tbody tr th {\n",
       "        vertical-align: top;\n",
       "    }\n",
       "\n",
       "    .dataframe thead th {\n",
       "        text-align: right;\n",
       "    }\n",
       "</style>\n",
       "<table border=\"1\" class=\"dataframe\">\n",
       "  <thead>\n",
       "    <tr style=\"text-align: right;\">\n",
       "      <th></th>\n",
       "      <th>Port Botany Import</th>\n",
       "      <th>Flinders Port Import</th>\n",
       "      <th>Port of Melbourne Import</th>\n",
       "      <th>Port of Brisbane Import</th>\n",
       "      <th>Fremental Port Import</th>\n",
       "      <th>Total import Demand</th>\n",
       "    </tr>\n",
       "  </thead>\n",
       "  <tbody>\n",
       "    <tr>\n",
       "      <th>0</th>\n",
       "      <td>20589.339695</td>\n",
       "      <td>2838.909850</td>\n",
       "      <td>19166.080320</td>\n",
       "      <td>8688.306169</td>\n",
       "      <td>6330.135570</td>\n",
       "      <td>57612.771604</td>\n",
       "    </tr>\n",
       "    <tr>\n",
       "      <th>1</th>\n",
       "      <td>20650.721889</td>\n",
       "      <td>2847.373380</td>\n",
       "      <td>19223.219399</td>\n",
       "      <td>8714.208275</td>\n",
       "      <td>6349.007353</td>\n",
       "      <td>57784.530296</td>\n",
       "    </tr>\n",
       "    <tr>\n",
       "      <th>2</th>\n",
       "      <td>20650.721889</td>\n",
       "      <td>2847.373380</td>\n",
       "      <td>19223.219399</td>\n",
       "      <td>8714.208275</td>\n",
       "      <td>6349.007353</td>\n",
       "      <td>57784.530296</td>\n",
       "    </tr>\n",
       "    <tr>\n",
       "      <th>3</th>\n",
       "      <td>20067.591100</td>\n",
       "      <td>2766.969844</td>\n",
       "      <td>18680.398138</td>\n",
       "      <td>8468.138274</td>\n",
       "      <td>6169.725405</td>\n",
       "      <td>56152.822761</td>\n",
       "    </tr>\n",
       "    <tr>\n",
       "      <th>4</th>\n",
       "      <td>20036.900008</td>\n",
       "      <td>2762.738078</td>\n",
       "      <td>18651.828589</td>\n",
       "      <td>8455.187222</td>\n",
       "      <td>6160.289512</td>\n",
       "      <td>56066.943409</td>\n",
       "    </tr>\n",
       "    <tr>\n",
       "      <th>...</th>\n",
       "      <td>...</td>\n",
       "      <td>...</td>\n",
       "      <td>...</td>\n",
       "      <td>...</td>\n",
       "      <td>...</td>\n",
       "      <td>...</td>\n",
       "    </tr>\n",
       "    <tr>\n",
       "      <th>144</th>\n",
       "      <td>14635.267446</td>\n",
       "      <td>2017.947419</td>\n",
       "      <td>13623.589463</td>\n",
       "      <td>6175.801958</td>\n",
       "      <td>4499.572515</td>\n",
       "      <td>40952.178800</td>\n",
       "    </tr>\n",
       "    <tr>\n",
       "      <th>145</th>\n",
       "      <td>19760.680159</td>\n",
       "      <td>2724.652192</td>\n",
       "      <td>18394.702733</td>\n",
       "      <td>8338.627748</td>\n",
       "      <td>6075.366485</td>\n",
       "      <td>55294.029318</td>\n",
       "    </tr>\n",
       "    <tr>\n",
       "      <th>146</th>\n",
       "      <td>20834.868451</td>\n",
       "      <td>2872.763971</td>\n",
       "      <td>19394.636646</td>\n",
       "      <td>8791.914590</td>\n",
       "      <td>6405.622705</td>\n",
       "      <td>58299.806364</td>\n",
       "    </tr>\n",
       "    <tr>\n",
       "      <th>147</th>\n",
       "      <td>23167.391598</td>\n",
       "      <td>3194.378119</td>\n",
       "      <td>21565.921720</td>\n",
       "      <td>9776.194590</td>\n",
       "      <td>7122.750499</td>\n",
       "      <td>64826.636526</td>\n",
       "    </tr>\n",
       "    <tr>\n",
       "      <th>148</th>\n",
       "      <td>17092.240267</td>\n",
       "      <td>2356.721000</td>\n",
       "      <td>15910.721494</td>\n",
       "      <td>7212.597329</td>\n",
       "      <td>5254.962016</td>\n",
       "      <td>47827.242106</td>\n",
       "    </tr>\n",
       "  </tbody>\n",
       "</table>\n",
       "<p>149 rows × 6 columns</p>\n",
       "</div>"
      ],
      "text/plain": [
       "     Port Botany Import  Flinders Port Import  Port of Melbourne Import  \\\n",
       "0          20589.339695           2838.909850              19166.080320   \n",
       "1          20650.721889           2847.373380              19223.219399   \n",
       "2          20650.721889           2847.373380              19223.219399   \n",
       "3          20067.591100           2766.969844              18680.398138   \n",
       "4          20036.900008           2762.738078              18651.828589   \n",
       "..                  ...                   ...                       ...   \n",
       "144        14635.267446           2017.947419              13623.589463   \n",
       "145        19760.680159           2724.652192              18394.702733   \n",
       "146        20834.868451           2872.763971              19394.636646   \n",
       "147        23167.391598           3194.378119              21565.921720   \n",
       "148        17092.240267           2356.721000              15910.721494   \n",
       "\n",
       "     Port of Brisbane Import  Fremental Port Import  Total import Demand  \n",
       "0                8688.306169            6330.135570         57612.771604  \n",
       "1                8714.208275            6349.007353         57784.530296  \n",
       "2                8714.208275            6349.007353         57784.530296  \n",
       "3                8468.138274            6169.725405         56152.822761  \n",
       "4                8455.187222            6160.289512         56066.943409  \n",
       "..                       ...                    ...                  ...  \n",
       "144              6175.801958            4499.572515         40952.178800  \n",
       "145              8338.627748            6075.366485         55294.029318  \n",
       "146              8791.914590            6405.622705         58299.806364  \n",
       "147              9776.194590            7122.750499         64826.636526  \n",
       "148              7212.597329            5254.962016         47827.242106  \n",
       "\n",
       "[149 rows x 6 columns]"
      ]
     },
     "execution_count": 6,
     "metadata": {},
     "output_type": "execute_result"
    }
   ],
   "source": [
    "df.drop([\"Port Botany Full\",\"Port Botany Empty\",\"Flinders Port Empty\",\"Flinders Port Full\",\"Port of Melbourne Full\",\"Port of Melbourne Empty\",\"Port of Brisbane Empty\",\"Port of Brisbane Full\",\"Fremental Port Full\",\"Fremental Port Empty\"],axis=1)"
   ]
  },
  {
   "cell_type": "markdown",
   "metadata": {},
   "source": [
    "## Get Supply and Demand Dataset"
   ]
  },
  {
   "cell_type": "code",
   "execution_count": 8,
   "metadata": {},
   "outputs": [],
   "source": [
    "dett = pd.read_csv('Demand11.csv')\n",
    "sup =  pd.read_csv('Supply11.csv')"
   ]
  },
  {
   "cell_type": "code",
   "execution_count": 9,
   "metadata": {},
   "outputs": [
    {
     "data": {
      "text/html": [
       "<div>\n",
       "<style scoped>\n",
       "    .dataframe tbody tr th:only-of-type {\n",
       "        vertical-align: middle;\n",
       "    }\n",
       "\n",
       "    .dataframe tbody tr th {\n",
       "        vertical-align: top;\n",
       "    }\n",
       "\n",
       "    .dataframe thead th {\n",
       "        text-align: right;\n",
       "    }\n",
       "</style>\n",
       "<table border=\"1\" class=\"dataframe\">\n",
       "  <thead>\n",
       "    <tr style=\"text-align: right;\">\n",
       "      <th></th>\n",
       "      <th>Price</th>\n",
       "      <th>Supply</th>\n",
       "    </tr>\n",
       "  </thead>\n",
       "  <tbody>\n",
       "    <tr>\n",
       "      <th>0</th>\n",
       "      <td>311.538462</td>\n",
       "      <td>60965.66524</td>\n",
       "    </tr>\n",
       "    <tr>\n",
       "      <th>1</th>\n",
       "      <td>294.230769</td>\n",
       "      <td>55386.26609</td>\n",
       "    </tr>\n",
       "    <tr>\n",
       "      <th>2</th>\n",
       "      <td>300.000000</td>\n",
       "      <td>55386.26609</td>\n",
       "    </tr>\n",
       "    <tr>\n",
       "      <th>3</th>\n",
       "      <td>313.461538</td>\n",
       "      <td>55987.12446</td>\n",
       "    </tr>\n",
       "    <tr>\n",
       "      <th>4</th>\n",
       "      <td>307.692308</td>\n",
       "      <td>57446.35193</td>\n",
       "    </tr>\n",
       "    <tr>\n",
       "      <th>...</th>\n",
       "      <td>...</td>\n",
       "      <td>...</td>\n",
       "    </tr>\n",
       "    <tr>\n",
       "      <th>145</th>\n",
       "      <td>725.000000</td>\n",
       "      <td>39077.25322</td>\n",
       "    </tr>\n",
       "    <tr>\n",
       "      <th>146</th>\n",
       "      <td>736.538462</td>\n",
       "      <td>35472.10300</td>\n",
       "    </tr>\n",
       "    <tr>\n",
       "      <th>147</th>\n",
       "      <td>728.846154</td>\n",
       "      <td>35901.28755</td>\n",
       "    </tr>\n",
       "    <tr>\n",
       "      <th>148</th>\n",
       "      <td>721.153846</td>\n",
       "      <td>36502.14592</td>\n",
       "    </tr>\n",
       "    <tr>\n",
       "      <th>149</th>\n",
       "      <td>480.769231</td>\n",
       "      <td>32811.15880</td>\n",
       "    </tr>\n",
       "  </tbody>\n",
       "</table>\n",
       "<p>150 rows × 2 columns</p>\n",
       "</div>"
      ],
      "text/plain": [
       "          Price       Supply\n",
       "0    311.538462  60965.66524\n",
       "1    294.230769  55386.26609\n",
       "2    300.000000  55386.26609\n",
       "3    313.461538  55987.12446\n",
       "4    307.692308  57446.35193\n",
       "..          ...          ...\n",
       "145  725.000000  39077.25322\n",
       "146  736.538462  35472.10300\n",
       "147  728.846154  35901.28755\n",
       "148  721.153846  36502.14592\n",
       "149  480.769231  32811.15880\n",
       "\n",
       "[150 rows x 2 columns]"
      ]
     },
     "execution_count": 9,
     "metadata": {},
     "output_type": "execute_result"
    }
   ],
   "source": [
    "sup"
   ]
  },
  {
   "cell_type": "code",
   "execution_count": 10,
   "metadata": {},
   "outputs": [
    {
     "data": {
      "text/html": [
       "<div>\n",
       "<style scoped>\n",
       "    .dataframe tbody tr th:only-of-type {\n",
       "        vertical-align: middle;\n",
       "    }\n",
       "\n",
       "    .dataframe tbody tr th {\n",
       "        vertical-align: top;\n",
       "    }\n",
       "\n",
       "    .dataframe thead th {\n",
       "        text-align: right;\n",
       "    }\n",
       "</style>\n",
       "<table border=\"1\" class=\"dataframe\">\n",
       "  <thead>\n",
       "    <tr style=\"text-align: right;\">\n",
       "      <th></th>\n",
       "      <th>Price</th>\n",
       "      <th>Demand</th>\n",
       "    </tr>\n",
       "  </thead>\n",
       "  <tbody>\n",
       "    <tr>\n",
       "      <th>0</th>\n",
       "      <td>563.265306</td>\n",
       "      <td>60528.25553</td>\n",
       "    </tr>\n",
       "    <tr>\n",
       "      <th>1</th>\n",
       "      <td>496.474954</td>\n",
       "      <td>57690.41769</td>\n",
       "    </tr>\n",
       "    <tr>\n",
       "      <th>2</th>\n",
       "      <td>366.604824</td>\n",
       "      <td>57862.40786</td>\n",
       "    </tr>\n",
       "    <tr>\n",
       "      <th>3</th>\n",
       "      <td>338.775510</td>\n",
       "      <td>57862.40786</td>\n",
       "    </tr>\n",
       "    <tr>\n",
       "      <th>4</th>\n",
       "      <td>533.580705</td>\n",
       "      <td>56228.50123</td>\n",
       "    </tr>\n",
       "    <tr>\n",
       "      <th>...</th>\n",
       "      <td>...</td>\n",
       "      <td>...</td>\n",
       "    </tr>\n",
       "    <tr>\n",
       "      <th>144</th>\n",
       "      <td>854.545455</td>\n",
       "      <td>39201.47420</td>\n",
       "    </tr>\n",
       "    <tr>\n",
       "      <th>145</th>\n",
       "      <td>1142.115028</td>\n",
       "      <td>41007.37101</td>\n",
       "    </tr>\n",
       "    <tr>\n",
       "      <th>146</th>\n",
       "      <td>1045.640074</td>\n",
       "      <td>55368.55037</td>\n",
       "    </tr>\n",
       "    <tr>\n",
       "      <th>147</th>\n",
       "      <td>921.335807</td>\n",
       "      <td>58378.37838</td>\n",
       "    </tr>\n",
       "    <tr>\n",
       "      <th>148</th>\n",
       "      <td>522.448980</td>\n",
       "      <td>64914.00491</td>\n",
       "    </tr>\n",
       "  </tbody>\n",
       "</table>\n",
       "<p>149 rows × 2 columns</p>\n",
       "</div>"
      ],
      "text/plain": [
       "           Price       Demand\n",
       "0     563.265306  60528.25553\n",
       "1     496.474954  57690.41769\n",
       "2     366.604824  57862.40786\n",
       "3     338.775510  57862.40786\n",
       "4     533.580705  56228.50123\n",
       "..           ...          ...\n",
       "144   854.545455  39201.47420\n",
       "145  1142.115028  41007.37101\n",
       "146  1045.640074  55368.55037\n",
       "147   921.335807  58378.37838\n",
       "148   522.448980  64914.00491\n",
       "\n",
       "[149 rows x 2 columns]"
      ]
     },
     "execution_count": 10,
     "metadata": {},
     "output_type": "execute_result"
    }
   ],
   "source": [
    "dett"
   ]
  },
  {
   "cell_type": "code",
   "execution_count": 11,
   "metadata": {},
   "outputs": [],
   "source": [
    "A = sup.drop([0])\n",
    "B = dett.sort_values('Price')"
   ]
  },
  {
   "cell_type": "code",
   "execution_count": 12,
   "metadata": {},
   "outputs": [],
   "source": [
    "A.sort_values('Price')\n",
    "A['Demand'] = B['Demand']"
   ]
  },
  {
   "cell_type": "code",
   "execution_count": 13,
   "metadata": {},
   "outputs": [],
   "source": [
    "A = A.fillna(47891.7)"
   ]
  },
  {
   "cell_type": "code",
   "execution_count": 14,
   "metadata": {
    "scrolled": true
   },
   "outputs": [
    {
     "data": {
      "text/html": [
       "<div>\n",
       "<style scoped>\n",
       "    .dataframe tbody tr th:only-of-type {\n",
       "        vertical-align: middle;\n",
       "    }\n",
       "\n",
       "    .dataframe tbody tr th {\n",
       "        vertical-align: top;\n",
       "    }\n",
       "\n",
       "    .dataframe thead th {\n",
       "        text-align: right;\n",
       "    }\n",
       "</style>\n",
       "<table border=\"1\" class=\"dataframe\">\n",
       "  <thead>\n",
       "    <tr style=\"text-align: right;\">\n",
       "      <th></th>\n",
       "      <th>Price</th>\n",
       "      <th>Supply</th>\n",
       "      <th>Demand</th>\n",
       "    </tr>\n",
       "  </thead>\n",
       "  <tbody>\n",
       "    <tr>\n",
       "      <th>count</th>\n",
       "      <td>149.000000</td>\n",
       "      <td>149.000000</td>\n",
       "      <td>149.000000</td>\n",
       "    </tr>\n",
       "    <tr>\n",
       "      <th>mean</th>\n",
       "      <td>648.193082</td>\n",
       "      <td>46562.923063</td>\n",
       "      <td>45524.164733</td>\n",
       "    </tr>\n",
       "    <tr>\n",
       "      <th>std</th>\n",
       "      <td>309.616210</td>\n",
       "      <td>6602.684298</td>\n",
       "      <td>7905.356660</td>\n",
       "    </tr>\n",
       "    <tr>\n",
       "      <th>min</th>\n",
       "      <td>263.461538</td>\n",
       "      <td>26974.248930</td>\n",
       "      <td>30687.960690</td>\n",
       "    </tr>\n",
       "    <tr>\n",
       "      <th>25%</th>\n",
       "      <td>375.000000</td>\n",
       "      <td>42167.381970</td>\n",
       "      <td>39803.439800</td>\n",
       "    </tr>\n",
       "    <tr>\n",
       "      <th>50%</th>\n",
       "      <td>605.769231</td>\n",
       "      <td>46459.227470</td>\n",
       "      <td>44275.184280</td>\n",
       "    </tr>\n",
       "    <tr>\n",
       "      <th>75%</th>\n",
       "      <td>813.461538</td>\n",
       "      <td>51351.931330</td>\n",
       "      <td>53046.683050</td>\n",
       "    </tr>\n",
       "    <tr>\n",
       "      <th>max</th>\n",
       "      <td>1394.230769</td>\n",
       "      <td>60708.154510</td>\n",
       "      <td>64914.004910</td>\n",
       "    </tr>\n",
       "  </tbody>\n",
       "</table>\n",
       "</div>"
      ],
      "text/plain": [
       "             Price        Supply        Demand\n",
       "count   149.000000    149.000000    149.000000\n",
       "mean    648.193082  46562.923063  45524.164733\n",
       "std     309.616210   6602.684298   7905.356660\n",
       "min     263.461538  26974.248930  30687.960690\n",
       "25%     375.000000  42167.381970  39803.439800\n",
       "50%     605.769231  46459.227470  44275.184280\n",
       "75%     813.461538  51351.931330  53046.683050\n",
       "max    1394.230769  60708.154510  64914.004910"
      ]
     },
     "execution_count": 14,
     "metadata": {},
     "output_type": "execute_result"
    }
   ],
   "source": [
    "A.describe()"
   ]
  },
  {
   "cell_type": "markdown",
   "metadata": {},
   "source": [
    "## Graph of Demand and Supply V/S price"
   ]
  },
  {
   "cell_type": "code",
   "execution_count": 15,
   "metadata": {},
   "outputs": [
    {
     "data": {
      "text/plain": [
       "Text(0.5, 0, 'Price')"
      ]
     },
     "execution_count": 15,
     "metadata": {},
     "output_type": "execute_result"
    },
    {
     "data": {
      "image/png": "[encoded data removed]",
      "text/plain": [
       "<Figure size 432x288 with 1 Axes>"
      ]
     },
     "metadata": {
      "needs_background": "light"
     },
     "output_type": "display_data"
    }
   ],
   "source": [
    "Ax = A.plot(kind='scatter', x='Price',y='Demand',color = 'g',label ='Demand')\n",
    "ax2 = A.plot(kind='scatter', x='Price', y='Supply', color='r', label ='Supply', ax= Ax)\n",
    "ax2.set_ylabel('Supply and demand')\n",
    "ax2.set_xlabel('Price')"
   ]
  },
  {
   "cell_type": "markdown",
   "metadata": {},
   "source": [
    "## Test Train Validation  Split "
   ]
  },
  {
   "cell_type": "code",
   "execution_count": 16,
   "metadata": {},
   "outputs": [],
   "source": [
    "from sklearn.model_selection import train_test_split"
   ]
  },
  {
   "cell_type": "code",
   "execution_count": 17,
   "metadata": {},
   "outputs": [
    {
     "data": {
      "text/plain": [
       "array([[55386.26609, 57690.41769],\n",
       "       [55386.26609, 57862.40786],\n",
       "       [55987.12446, 57862.40786],\n",
       "       [57446.35193, 56228.50123],\n",
       "       [54098.71245, 56142.50614],\n",
       "       [51952.7897 , 56314.49631],\n",
       "       [47832.61803, 60356.26536],\n",
       "       [48605.15021, 60442.26044],\n",
       "       [49892.70386, 57862.40786],\n",
       "       [51351.93133, 57776.41278],\n",
       "       [50579.39914, 58292.38329],\n",
       "       [51094.4206 , 58206.38821],\n",
       "       [50236.0515 , 57948.40295],\n",
       "       [49721.03004, 58206.38821],\n",
       "       [52553.64807, 55454.54545],\n",
       "       [52639.48498, 55626.53563],\n",
       "       [54442.06009, 61302.2113 ],\n",
       "       [56072.96137, 61216.21622],\n",
       "       [56587.98283, 61216.21622],\n",
       "       [56072.96137, 48402.9484 ],\n",
       "       [55901.28755, 48144.96314],\n",
       "       [54184.54936, 48058.96806],\n",
       "       [54356.22318, 41265.35627],\n",
       "       [53583.69099, 41265.35627],\n",
       "       [52896.99571, 41265.35627],\n",
       "       [50150.21459, 40061.42506],\n",
       "       [48862.66094, 40061.42506],\n",
       "       [48347.63948, 40147.42015],\n",
       "       [48690.98712, 41265.35627],\n",
       "       [48519.3133 , 47714.98771],\n",
       "       [50579.39914, 44017.19902],\n",
       "       [49206.00858, 41695.3317 ],\n",
       "       [51952.7897 , 41781.32678],\n",
       "       [52467.81116, 41867.32187],\n",
       "       [54356.22318, 41781.32678],\n",
       "       [55042.91845, 44361.17936],\n",
       "       [57961.37339, 44017.19902],\n",
       "       [59163.09013, 44103.1941 ],\n",
       "       [58905.5794 , 44103.1941 ],\n",
       "       [60364.80687, 39631.44963],\n",
       "       [60708.15451, 39545.45455],\n",
       "       [56759.65665, 39459.45946],\n",
       "       [56502.14592, 44791.15479],\n",
       "       [52896.99571, 44963.14496],\n",
       "       [51866.95279, 45135.13514],\n",
       "       [52296.13734, 44275.18428],\n",
       "       [53841.20172, 44791.15479],\n",
       "       [49034.33476, 45135.13514],\n",
       "       [48175.96567, 45995.086  ],\n",
       "       [50064.37768, 46855.03686],\n",
       "       [52639.48498, 47628.99263],\n",
       "       [52896.99571, 47542.99754],\n",
       "       [49463.51931, 50810.81081],\n",
       "       [49120.17167, 50810.81081],\n",
       "       [49978.54077, 53218.67322],\n",
       "       [49206.00858, 53562.65356],\n",
       "       [51008.58369, 53218.67322],\n",
       "       [49034.33476, 53906.63391],\n",
       "       [46115.87983, 54422.60442],\n",
       "       [44141.6309 , 54594.59459],\n",
       "       [43798.28326, 54680.58968],\n",
       "       [47317.59657, 54680.58968],\n",
       "       [48004.29185, 55196.5602 ],\n",
       "       [44399.14163, 54164.61916],\n",
       "       [37188.8412 , 53304.6683 ],\n",
       "       [38562.23176, 53046.68305],\n",
       "       [42682.40343, 53046.68305],\n",
       "       [43712.44635, 52960.68796],\n",
       "       [43283.2618 , 53046.68305],\n",
       "       [44570.81545, 53218.67322],\n",
       "       [45600.85837, 44533.16953],\n",
       "       [41995.70815, 44791.15479],\n",
       "       [43197.42489, 44275.18428],\n",
       "       [26974.24893, 44791.15479],\n",
       "       [31695.27897, 45307.12531],\n",
       "       [36845.49356, 45135.13514],\n",
       "       [39935.62232, 46167.07617],\n",
       "       [41652.36052, 46167.07617],\n",
       "       [42081.54506, 42555.28256],\n",
       "       [43197.42489, 42555.28256],\n",
       "       [42854.07725, 42727.27273],\n",
       "       [42253.21888, 42383.29238],\n",
       "       [41566.52361, 42383.29238],\n",
       "       [45600.85837, 42727.27273],\n",
       "       [47918.45494, 42383.29238],\n",
       "       [48175.96567, 42813.26781],\n",
       "       [50064.37768, 43071.25307],\n",
       "       [49721.03004, 42727.27273],\n",
       "       [50836.90987, 40319.41032],\n",
       "       [51609.44206, 39631.44963],\n",
       "       [51866.95279, 39889.43489],\n",
       "       [52553.64807, 39717.44472],\n",
       "       [48347.63948, 39631.44963],\n",
       "       [51008.58369, 39115.47912],\n",
       "       [46802.57511, 39029.48403],\n",
       "       [46287.55365, 39115.47912],\n",
       "       [48347.63948, 39975.42998],\n",
       "       [45429.18455, 39975.42998],\n",
       "       [44313.30472, 39545.45455],\n",
       "       [44656.65236, 39115.47912],\n",
       "       [45429.18455, 39631.44963],\n",
       "       [45429.18455, 39631.44963],\n",
       "       [45515.02146, 39459.45946],\n",
       "       [46459.22747, 39201.4742 ],\n",
       "       [45686.69528, 39029.48403],\n",
       "       [46030.04292, 39803.4398 ],\n",
       "       [45772.53219, 38943.48894],\n",
       "       [46974.24893, 39373.46437],\n",
       "       [40450.64378, 38943.48894],\n",
       "       [40536.48069, 38943.48894],\n",
       "       [39763.9485 , 38943.48894],\n",
       "       [39248.92704, 50380.83538],\n",
       "       [42167.38197, 50638.82064],\n",
       "       [42682.40343, 50638.82064],\n",
       "       [44399.14163, 53046.68305],\n",
       "       [44227.46781, 53304.6683 ],\n",
       "       [35214.59227, 34385.74939],\n",
       "       [34957.08155, 34299.7543 ],\n",
       "       [28690.98712, 34557.73956],\n",
       "       [35128.75536, 34299.7543 ],\n",
       "       [36416.30901, 32407.86241],\n",
       "       [36759.65665, 32407.86241],\n",
       "       [37446.35193, 31031.94103],\n",
       "       [39334.76395, 32407.86241],\n",
       "       [40622.3176 , 30859.95086],\n",
       "       [41480.6867 , 30687.96069],\n",
       "       [42081.54506, 30687.96069],\n",
       "       [43197.42489, 30945.94595],\n",
       "       [43283.2618 , 30773.95577],\n",
       "       [44742.48927, 30773.95577],\n",
       "       [44742.48927, 30773.95577],\n",
       "       [43283.2618 , 44189.18919],\n",
       "       [40364.80687, 44791.15479],\n",
       "       [41566.52361, 45307.12531],\n",
       "       [40622.3176 , 44275.18428],\n",
       "       [40965.66524, 44103.1941 ],\n",
       "       [43111.58798, 44017.19902],\n",
       "       [43111.58798, 44791.15479],\n",
       "       [46459.22747, 44447.17445],\n",
       "       [46373.39056, 44533.16953],\n",
       "       [45772.53219, 43845.20885],\n",
       "       [38905.5794 , 44447.17445],\n",
       "       [38047.2103 , 44791.15479],\n",
       "       [38562.23176, 39201.4742 ],\n",
       "       [39077.25322, 41007.37101],\n",
       "       [35472.103  , 55368.55037],\n",
       "       [35901.28755, 58378.37838],\n",
       "       [36502.14592, 64914.00491],\n",
       "       [32811.1588 , 47891.7    ]])"
      ]
     },
     "execution_count": 17,
     "metadata": {},
     "output_type": "execute_result"
    }
   ],
   "source": [
    "y = A.iloc[:,0].values\n",
    "X = A.iloc[:,1:3].values\n",
    "X"
   ]
  },
  {
   "cell_type": "code",
   "execution_count": 18,
   "metadata": {},
   "outputs": [
    {
     "data": {
      "text/plain": [
       "array([ 294.2307692,  300.       ,  313.4615385,  307.6923077,\n",
       "        286.5384615,  298.0769231,  263.4615385,  317.3076923,\n",
       "        311.5384615,  328.8461538,  328.8461538,  344.2307692,\n",
       "        342.3076923,  344.2307692,  338.4615385,  340.3846154,\n",
       "        348.0769231,  359.6153846,  361.5384615,  375.       ,\n",
       "        376.9230769,  401.9230769,  390.3846154,  396.1538462,\n",
       "        428.8461538,  405.7692308,  403.8461538,  413.4615385,\n",
       "        384.6153846,  384.6153846,  444.2307692,  475.       ,\n",
       "        482.6923077,  536.5384615,  490.3846154,  507.6923077,\n",
       "        496.1538462,  421.1538462,  705.7692308,  717.3076923,\n",
       "        871.1538462,  815.3846154,  838.4615385,  755.7692308,\n",
       "        775.       ,  813.4615385,  821.1538462,  873.0769231,\n",
       "        917.3076923,  957.6923077,  965.3846154, 1359.615385 ,\n",
       "       1359.615385 , 1305.769231 , 1255.769231 , 1213.461538 ,\n",
       "       1178.846154 , 1136.538462 , 1130.769231 , 1151.923077 ,\n",
       "       1090.384615 , 1038.461538 , 1034.615385 ,  990.3846154,\n",
       "       1134.615385 , 1276.923077 , 1282.692308 , 1305.769231 ,\n",
       "       1313.461538 , 1348.076923 , 1350.       , 1394.230769 ,\n",
       "       1355.769231 , 1036.538462 ,  875.       ,  875.       ,\n",
       "        911.5384615,  855.7692308,  867.3076923,  819.2307692,\n",
       "        813.4615385,  813.4615385,  780.7692308,  811.5384615,\n",
       "        761.5384615,  732.6923077,  725.       ,  688.4615385,\n",
       "        678.8461538,  678.8461538,  682.6923077,  688.4615385,\n",
       "        644.2307692,  628.8461538,  590.3846154,  523.0769231,\n",
       "        532.6923077,  467.3076923,  375.       ,  390.3846154,\n",
       "        375.       ,  367.3076923,  384.6153846,  336.5384615,\n",
       "        325.       ,  305.7692308,  290.3846154,  305.7692308,\n",
       "        357.6923077,  342.3076923,  332.6923077,  340.3846154,\n",
       "        311.5384615,  353.8461538,  326.9230769,  332.6923077,\n",
       "        290.3846154,  296.1538462,  313.4615385,  457.6923077,\n",
       "        505.7692308,  513.4615385,  526.9230769,  476.9230769,\n",
       "        498.0769231,  488.4615385,  528.8461538,  542.3076923,\n",
       "        605.7692308,  590.3846154,  636.5384615,  646.1538462,\n",
       "        673.0769231,  680.7692308,  680.7692308,  713.4615385,\n",
       "        707.6923077,  734.6153846,  713.4615385,  701.9230769,\n",
       "        696.1538462,  709.6153846,  715.3846154,  728.8461538,\n",
       "        725.       ,  736.5384615,  728.8461538,  721.1538462,\n",
       "        480.7692308])"
      ]
     },
     "execution_count": 18,
     "metadata": {},
     "output_type": "execute_result"
    }
   ],
   "source": [
    "y"
   ]
  },
  {
   "cell_type": "code",
   "execution_count": 19,
   "metadata": {},
   "outputs": [],
   "source": [
    "X_train, X_test, y_train, y_test = train_test_split(X, y, test_size=0.3, random_state=1)\n",
    "\n",
    "X_test, X_val, y_test, y_val = train_test_split(X_test, y_test, test_size=0.66, random_state=1) "
   ]
  },
  {
   "cell_type": "code",
   "execution_count": 20,
   "metadata": {},
   "outputs": [
    {
     "data": {
      "text/plain": [
       "(104, 2)"
      ]
     },
     "execution_count": 20,
     "metadata": {},
     "output_type": "execute_result"
    }
   ],
   "source": [
    "X_train.shape"
   ]
  },
  {
   "cell_type": "code",
   "execution_count": 21,
   "metadata": {},
   "outputs": [
    {
     "data": {
      "text/plain": [
       "(15, 2)"
      ]
     },
     "execution_count": 21,
     "metadata": {},
     "output_type": "execute_result"
    }
   ],
   "source": [
    "X_test.shape"
   ]
  },
  {
   "cell_type": "code",
   "execution_count": 22,
   "metadata": {},
   "outputs": [
    {
     "data": {
      "text/plain": [
       "(30, 2)"
      ]
     },
     "execution_count": 22,
     "metadata": {},
     "output_type": "execute_result"
    }
   ],
   "source": [
    "X_val.shape"
   ]
  },
  {
   "cell_type": "markdown",
   "metadata": {},
   "source": [
    "## Random Forest Regressor (RFR)"
   ]
  },
  {
   "cell_type": "code",
   "execution_count": 23,
   "metadata": {},
   "outputs": [],
   "source": [
    "from sklearn.ensemble import RandomForestRegressor"
   ]
  },
  {
   "cell_type": "code",
   "execution_count": 24,
   "metadata": {},
   "outputs": [],
   "source": [
    "reg = RandomForestRegressor()"
   ]
  },
  {
   "cell_type": "code",
   "execution_count": 25,
   "metadata": {},
   "outputs": [
    {
     "data": {
      "text/plain": [
       "RandomForestRegressor()"
      ]
     },
     "execution_count": 25,
     "metadata": {},
     "output_type": "execute_result"
    }
   ],
   "source": [
    "reg.fit(X_train,y_train)"
   ]
  },
  {
   "cell_type": "code",
   "execution_count": 26,
   "metadata": {},
   "outputs": [
    {
     "data": {
      "text/plain": [
       "array([ 529.90384614,  508.17307699, 1051.00000021,  779.21153847,\n",
       "        578.61538459,  773.55769231,  974.01923075,  506.13461539,\n",
       "        447.93974359,  312.75      ,  913.63461527,  838.23076925,\n",
       "        567.23076922,  319.07692309,  320.90384617])"
      ]
     },
     "execution_count": 26,
     "metadata": {},
     "output_type": "execute_result"
    }
   ],
   "source": [
    "y_pred = reg.predict(X_test)\n",
    "y_pred"
   ]
  },
  {
   "cell_type": "markdown",
   "metadata": {},
   "source": [
    "## Finding RMSE error for RFR"
   ]
  },
  {
   "cell_type": "code",
   "execution_count": 27,
   "metadata": {},
   "outputs": [
    {
     "data": {
      "text/plain": [
       "23413.845352233762"
      ]
     },
     "execution_count": 27,
     "metadata": {},
     "output_type": "execute_result"
    }
   ],
   "source": [
    "from sklearn.metrics import mean_squared_error\n",
    "RMSE_RFR = mean_squared_error(y_test, y_pred)\n",
    "RMSE_RFR"
   ]
  },
  {
   "cell_type": "markdown",
   "metadata": {},
   "source": [
    "## Finding R2 accuracy for RFR"
   ]
  },
  {
   "cell_type": "code",
   "execution_count": 28,
   "metadata": {},
   "outputs": [
    {
     "data": {
      "text/plain": [
       "0.754253625286456"
      ]
     },
     "execution_count": 28,
     "metadata": {},
     "output_type": "execute_result"
    }
   ],
   "source": [
    "from sklearn.metrics import r2_score\n",
    "R2_RFR = r2_score(y_test,y_pred)\n",
    "R2_RFR"
   ]
  },
  {
   "cell_type": "markdown",
   "metadata": {},
   "source": [
    "## Accuracy for train test and Validation Dataset for RFR"
   ]
  },
  {
   "cell_type": "code",
   "execution_count": 29,
   "metadata": {},
   "outputs": [
    {
     "data": {
      "text/plain": [
       "90.13437402701531"
      ]
     },
     "execution_count": 29,
     "metadata": {},
     "output_type": "execute_result"
    }
   ],
   "source": [
    "y_pred1 = reg.predict(X_train)\n",
    "Acc_rfr_train = (abs(y_train - y_pred1)/y_train)*100\n",
    "Acc_rfr_train=100-Acc_rfr_train.mean()\n",
    "Acc_rfr_train"
   ]
  },
  {
   "cell_type": "code",
   "execution_count": 30,
   "metadata": {},
   "outputs": [
    {
     "data": {
      "text/plain": [
       "71.41574942102474"
      ]
     },
     "execution_count": 30,
     "metadata": {},
     "output_type": "execute_result"
    }
   ],
   "source": [
    "y_pred2 = reg.predict(X_val)\n",
    "Acc_rfr_val = (abs(y_val - y_pred2)/y_val)*100\n",
    "Acc_rfr_val=100-Acc_rfr_val.mean()\n",
    "Acc_rfr_val"
   ]
  },
  {
   "cell_type": "code",
   "execution_count": 31,
   "metadata": {},
   "outputs": [
    {
     "data": {
      "text/plain": [
       "80.23892190028552"
      ]
     },
     "execution_count": 31,
     "metadata": {},
     "output_type": "execute_result"
    }
   ],
   "source": [
    "y_pred3 = reg.predict(X_test)\n",
    "Acc_rfr_test = (abs(y_test - y_pred3)/y_test)*100\n",
    "Acc_rfr_test=100-Acc_rfr_test.mean()\n",
    "Acc_rfr_test"
   ]
  },
  {
   "cell_type": "markdown",
   "metadata": {},
   "source": [
    "## Support Vector Regression(SVR)"
   ]
  },
  {
   "cell_type": "code",
   "execution_count": 32,
   "metadata": {},
   "outputs": [],
   "source": [
    "from sklearn.preprocessing import StandardScaler\n",
    "from sklearn.svm import SVR"
   ]
  },
  {
   "cell_type": "code",
   "execution_count": 33,
   "metadata": {},
   "outputs": [],
   "source": [
    "reg = SVR(kernel= 'rbf')"
   ]
  },
  {
   "cell_type": "code",
   "execution_count": 34,
   "metadata": {},
   "outputs": [
    {
     "data": {
      "text/plain": [
       "SVR()"
      ]
     },
     "execution_count": 34,
     "metadata": {},
     "output_type": "execute_result"
    }
   ],
   "source": [
    "reg.fit(X_train,y_train)"
   ]
  },
  {
   "cell_type": "markdown",
   "metadata": {},
   "source": [
    "## Accuracy for train test and Validation Dataset for SVR"
   ]
  },
  {
   "cell_type": "code",
   "execution_count": 35,
   "metadata": {},
   "outputs": [
    {
     "data": {
      "text/plain": [
       "56.169206546743766"
      ]
     },
     "execution_count": 35,
     "metadata": {},
     "output_type": "execute_result"
    }
   ],
   "source": [
    "y_pred1 = reg.predict(X_test)\n",
    "Acc_svr_test = (abs(y_test - y_pred1)/y_test)*100\n",
    "Acc_svr_test=100-Acc_svr_test.mean()\n",
    "Acc_svr_test"
   ]
  },
  {
   "cell_type": "code",
   "execution_count": 36,
   "metadata": {},
   "outputs": [
    {
     "data": {
      "text/plain": [
       "57.664626968622954"
      ]
     },
     "execution_count": 36,
     "metadata": {},
     "output_type": "execute_result"
    }
   ],
   "source": [
    "y_pred2 = reg.predict(X_train)\n",
    "Acc_svr_train = (abs(y_train - y_pred2)/y_train)*100\n",
    "Acc_svr_train=100-Acc_svr_train.mean()\n",
    "Acc_svr_train"
   ]
  },
  {
   "cell_type": "code",
   "execution_count": 37,
   "metadata": {},
   "outputs": [
    {
     "data": {
      "text/plain": [
       "54.83818290265688"
      ]
     },
     "execution_count": 37,
     "metadata": {},
     "output_type": "execute_result"
    }
   ],
   "source": [
    "y_pred3 = reg.predict(X_val)\n",
    "Acc_svr_val = (abs(y_val - y_pred3)/y_val)*100\n",
    "Acc_svr_val=100-Acc_svr_val.mean()\n",
    "Acc_svr_val"
   ]
  },
  {
   "cell_type": "markdown",
   "metadata": {},
   "source": [
    "## Finding RMSE error for SVR"
   ]
  },
  {
   "cell_type": "code",
   "execution_count": 38,
   "metadata": {},
   "outputs": [
    {
     "data": {
      "text/plain": [
       "23413.845352233762"
      ]
     },
     "execution_count": 38,
     "metadata": {},
     "output_type": "execute_result"
    }
   ],
   "source": [
    "from sklearn.metrics import mean_squared_error\n",
    "RMSE_SVR= mean_squared_error(y_test, y_pred)\n",
    "RMSE_SVR"
   ]
  },
  {
   "cell_type": "markdown",
   "metadata": {},
   "source": [
    "## Finding R2 accuracy for SVR"
   ]
  },
  {
   "cell_type": "code",
   "execution_count": 39,
   "metadata": {},
   "outputs": [
    {
     "data": {
      "text/plain": [
       "0.754253625286456"
      ]
     },
     "execution_count": 39,
     "metadata": {},
     "output_type": "execute_result"
    }
   ],
   "source": [
    "from sklearn.metrics import r2_score\n",
    "R2_SVR= r2_score(y_test,y_pred)\n",
    "R2_SVR"
   ]
  },
  {
   "cell_type": "markdown",
   "metadata": {},
   "source": [
    "## Gradient Boost Regressor(GBR)"
   ]
  },
  {
   "cell_type": "code",
   "execution_count": 40,
   "metadata": {},
   "outputs": [],
   "source": [
    "from sklearn.ensemble import GradientBoostingRegressor"
   ]
  },
  {
   "cell_type": "code",
   "execution_count": 41,
   "metadata": {},
   "outputs": [],
   "source": [
    "reg = GradientBoostingRegressor()"
   ]
  },
  {
   "cell_type": "code",
   "execution_count": 42,
   "metadata": {},
   "outputs": [
    {
     "data": {
      "text/plain": [
       "GradientBoostingRegressor()"
      ]
     },
     "execution_count": 42,
     "metadata": {},
     "output_type": "execute_result"
    }
   ],
   "source": [
    "reg.fit(X_train,y_train)"
   ]
  },
  {
   "cell_type": "code",
   "execution_count": 43,
   "metadata": {},
   "outputs": [
    {
     "data": {
      "text/plain": [
       "array([ 513.94295787,  345.1119392 , 1165.01236124,  769.30949035,\n",
       "        529.28000487,  829.09042862,  937.96532932,  489.14711992,\n",
       "        405.02060819,  298.69629705,  830.51578437,  864.69683609,\n",
       "        550.33750903,  321.22889965,  309.59296956])"
      ]
     },
     "execution_count": 43,
     "metadata": {},
     "output_type": "execute_result"
    }
   ],
   "source": [
    "y_pred = reg.predict(X_test)\n",
    "y_pred"
   ]
  },
  {
   "cell_type": "markdown",
   "metadata": {},
   "source": [
    "## Finding RMSE error for GBR"
   ]
  },
  {
   "cell_type": "code",
   "execution_count": 44,
   "metadata": {},
   "outputs": [
    {
     "data": {
      "text/plain": [
       "19955.568221493504"
      ]
     },
     "execution_count": 44,
     "metadata": {},
     "output_type": "execute_result"
    }
   ],
   "source": [
    "from sklearn.metrics import mean_squared_error\n",
    "RMSE_GBR= mean_squared_error(y_test, y_pred)\n",
    "RMSE_GBR"
   ]
  },
  {
   "cell_type": "markdown",
   "metadata": {},
   "source": [
    "## Finding R2 accuracy for GBR"
   ]
  },
  {
   "cell_type": "code",
   "execution_count": 45,
   "metadata": {},
   "outputs": [
    {
     "data": {
      "text/plain": [
       "0.7905509124193061"
      ]
     },
     "execution_count": 45,
     "metadata": {},
     "output_type": "execute_result"
    }
   ],
   "source": [
    "from sklearn.metrics import r2_score\n",
    "R2_GBR = r2_score(y_test,y_pred)\n",
    "R2_GBR"
   ]
  },
  {
   "cell_type": "markdown",
   "metadata": {},
   "source": [
    "## Accuracy for train test and Validation Dataset for GBR"
   ]
  },
  {
   "cell_type": "code",
   "execution_count": 46,
   "metadata": {},
   "outputs": [
    {
     "data": {
      "text/plain": [
       "83.86254005848129"
      ]
     },
     "execution_count": 46,
     "metadata": {},
     "output_type": "execute_result"
    }
   ],
   "source": [
    "y_pred = reg.predict(X_test)\n",
    "y_pred\n",
    "Acc_gbr_test = (abs(y_test - y_pred)/y_test)*100\n",
    "Acc_gbr_test=100-Acc_gbr_test.mean()\n",
    "Acc_gbr_test"
   ]
  },
  {
   "cell_type": "code",
   "execution_count": 47,
   "metadata": {},
   "outputs": [
    {
     "data": {
      "text/plain": [
       "92.18399101704802"
      ]
     },
     "execution_count": 47,
     "metadata": {},
     "output_type": "execute_result"
    }
   ],
   "source": [
    "y_pred1 = reg.predict(X_train)\n",
    "Acc_gbr_train = (abs(y_train - y_pred1)/y_train)*100\n",
    "Acc_gbr_train=100-Acc_gbr_train.mean()\n",
    "Acc_gbr_train"
   ]
  },
  {
   "cell_type": "code",
   "execution_count": 48,
   "metadata": {},
   "outputs": [
    {
     "data": {
      "text/plain": [
       "72.54135055770853"
      ]
     },
     "execution_count": 48,
     "metadata": {},
     "output_type": "execute_result"
    }
   ],
   "source": [
    "y_pred2 = reg.predict(X_val)\n",
    "Acc_gbr_val = (abs(y_val - y_pred2)/y_val)*100\n",
    "Acc_gbr_val=100-Acc_gbr_val.mean()\n",
    "Acc_gbr_val"
   ]
  },
  {
   "cell_type": "code",
   "execution_count": 49,
   "metadata": {},
   "outputs": [
    {
     "data": {
      "text/html": [
       "<div>\n",
       "<style scoped>\n",
       "    .dataframe tbody tr th:only-of-type {\n",
       "        vertical-align: middle;\n",
       "    }\n",
       "\n",
       "    .dataframe tbody tr th {\n",
       "        vertical-align: top;\n",
       "    }\n",
       "\n",
       "    .dataframe thead th {\n",
       "        text-align: right;\n",
       "    }\n",
       "</style>\n",
       "<table border=\"1\" class=\"dataframe\">\n",
       "  <thead>\n",
       "    <tr style=\"text-align: right;\">\n",
       "      <th></th>\n",
       "      <th>R2</th>\n",
       "      <th>RMSE</th>\n",
       "    </tr>\n",
       "  </thead>\n",
       "  <tbody>\n",
       "    <tr>\n",
       "      <th>RFR</th>\n",
       "      <td>0.754254</td>\n",
       "      <td>23413.845352</td>\n",
       "    </tr>\n",
       "    <tr>\n",
       "      <th>SVR</th>\n",
       "      <td>0.754254</td>\n",
       "      <td>23413.845352</td>\n",
       "    </tr>\n",
       "    <tr>\n",
       "      <th>GBR</th>\n",
       "      <td>0.790551</td>\n",
       "      <td>19955.568221</td>\n",
       "    </tr>\n",
       "  </tbody>\n",
       "</table>\n",
       "</div>"
      ],
      "text/plain": [
       "           R2          RMSE\n",
       "RFR  0.754254  23413.845352\n",
       "SVR  0.754254  23413.845352\n",
       "GBR  0.790551  19955.568221"
      ]
     },
     "execution_count": 49,
     "metadata": {},
     "output_type": "execute_result"
    }
   ],
   "source": [
    "data=[[R2_RFR,RMSE_RFR],[R2_SVR,RMSE_SVR],[R2_GBR,RMSE_GBR]]\n",
    "df = pd.DataFrame(data,columns=['R2','RMSE'],index=['RFR','SVR','GBR'])\n",
    "df"
   ]
  },
  {
   "cell_type": "markdown",
   "metadata": {},
   "source": [
    "## Bar Plot of R2 accuracy of different Algorithm"
   ]
  },
  {
   "cell_type": "code",
   "execution_count": 50,
   "metadata": {},
   "outputs": [
    {
     "data": {
      "text/plain": [
       "<matplotlib.axes._subplots.AxesSubplot at 0x1d048d1a490>"
      ]
     },
     "execution_count": 50,
     "metadata": {},
     "output_type": "execute_result"
    },
    {
     "data": {
      "image/png": "[encoded data removed]",
      "text/plain": [
       "<Figure size 432x288 with 1 Axes>"
      ]
     },
     "metadata": {
      "needs_background": "light"
     },
     "output_type": "display_data"
    }
   ],
   "source": [
    "df['R2'].plot(kind='bar')"
   ]
  },
  {
   "cell_type": "markdown",
   "metadata": {},
   "source": [
    "## Bar Plot of RMSE Error of different Algorithm"
   ]
  },
  {
   "cell_type": "code",
   "execution_count": 51,
   "metadata": {},
   "outputs": [
    {
     "data": {
      "text/plain": [
       "<matplotlib.axes._subplots.AxesSubplot at 0x1d048d6e7c0>"
      ]
     },
     "execution_count": 51,
     "metadata": {},
     "output_type": "execute_result"
    },
    {
     "data": {
      "image/png": "[encoded data removed]",
      "text/plain": [
       "<Figure size 432x288 with 1 Axes>"
      ]
     },
     "metadata": {
      "needs_background": "light"
     },
     "output_type": "display_data"
    }
   ],
   "source": [
    "df['RMSE'].plot(kind='bar')"
   ]
  },
  {
   "cell_type": "code",
   "execution_count": 52,
   "metadata": {},
   "outputs": [],
   "source": [
    "data =[[Acc_rfr_train,Acc_rfr_test,Acc_rfr_val],[Acc_svr_train,Acc_svr_test,Acc_svr_val],[Acc_gbr_train,Acc_gbr_test,Acc_gbr_val]]"
   ]
  },
  {
   "cell_type": "code",
   "execution_count": 53,
   "metadata": {},
   "outputs": [
    {
     "data": {
      "text/plain": [
       "[[90.13437402701531, 80.23892190028552, 71.41574942102474],\n",
       " [57.664626968622954, 56.169206546743766, 54.83818290265688],\n",
       " [92.18399101704802, 83.86254005848129, 72.54135055770853]]"
      ]
     },
     "execution_count": 53,
     "metadata": {},
     "output_type": "execute_result"
    }
   ],
   "source": [
    "data"
   ]
  },
  {
   "cell_type": "code",
   "execution_count": 54,
   "metadata": {},
   "outputs": [
    {
     "data": {
      "text/html": [
       "<div>\n",
       "<style scoped>\n",
       "    .dataframe tbody tr th:only-of-type {\n",
       "        vertical-align: middle;\n",
       "    }\n",
       "\n",
       "    .dataframe tbody tr th {\n",
       "        vertical-align: top;\n",
       "    }\n",
       "\n",
       "    .dataframe thead th {\n",
       "        text-align: right;\n",
       "    }\n",
       "</style>\n",
       "<table border=\"1\" class=\"dataframe\">\n",
       "  <thead>\n",
       "    <tr style=\"text-align: right;\">\n",
       "      <th></th>\n",
       "      <th>Train</th>\n",
       "      <th>Test</th>\n",
       "      <th>Val</th>\n",
       "    </tr>\n",
       "  </thead>\n",
       "  <tbody>\n",
       "    <tr>\n",
       "      <th>RFR</th>\n",
       "      <td>90.134374</td>\n",
       "      <td>80.238922</td>\n",
       "      <td>71.415749</td>\n",
       "    </tr>\n",
       "    <tr>\n",
       "      <th>SVR</th>\n",
       "      <td>57.664627</td>\n",
       "      <td>56.169207</td>\n",
       "      <td>54.838183</td>\n",
       "    </tr>\n",
       "    <tr>\n",
       "      <th>GBR</th>\n",
       "      <td>92.183991</td>\n",
       "      <td>83.862540</td>\n",
       "      <td>72.541351</td>\n",
       "    </tr>\n",
       "  </tbody>\n",
       "</table>\n",
       "</div>"
      ],
      "text/plain": [
       "         Train       Test        Val\n",
       "RFR  90.134374  80.238922  71.415749\n",
       "SVR  57.664627  56.169207  54.838183\n",
       "GBR  92.183991  83.862540  72.541351"
      ]
     },
     "execution_count": 54,
     "metadata": {},
     "output_type": "execute_result"
    }
   ],
   "source": [
    "df=pd.DataFrame(data,columns=['Train','Test','Val'],index=['RFR','SVR','GBR'])\n",
    "df"
   ]
  },
  {
   "cell_type": "markdown",
   "metadata": {},
   "source": [
    "## Bar Plot percentage accuracy of different Algorithm in train, test and validate dataset"
   ]
  },
  {
   "cell_type": "code",
   "execution_count": 55,
   "metadata": {},
   "outputs": [
    {
     "data": {
      "text/plain": [
       "<matplotlib.axes._subplots.AxesSubplot at 0x1d048dc4160>"
      ]
     },
     "execution_count": 55,
     "metadata": {},
     "output_type": "execute_result"
    },
    {
     "data": {
      "image/png": "[encoded data removed]",
      "text/plain": [
       "<Figure size 432x288 with 1 Axes>"
      ]
     },
     "metadata": {
      "needs_background": "light"
     },
     "output_type": "display_data"
    }
   ],
   "source": [
    "df.plot(kind='bar')"
   ]
  },
  {
   "cell_type": "code",
   "execution_count": null,
   "metadata": {},
   "outputs": [],
   "source": []
  }
 ],
 "metadata": {
  "kernelspec": {
   "display_name": "Python 3",
   "language": "python",
   "name": "python3"
  },
  "language_info": {
   "codemirror_mode": {
    "name": "ipython",
    "version": 3
   },
   "file_extension": ".py",
   "mimetype": "text/x-python",
   "name": "python",
   "nbconvert_exporter": "python",
   "pygments_lexer": "ipython3",
   "version": "3.8.3"
  }
 },
 "nbformat": 4,
 "nbformat_minor": 4
}
